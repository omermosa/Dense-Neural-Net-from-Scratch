{
 "cells": [
  {
   "cell_type": "code",
   "execution_count": 1,
   "metadata": {},
   "outputs": [],
   "source": [
    "import numpy as np\n",
    "import pandas as pd\n",
    "import matplotlib.pyplot as plt\n"
   ]
  },
  {
   "cell_type": "code",
   "execution_count": 2,
   "metadata": {},
   "outputs": [],
   "source": [
    "X_train=pd.read_csv(\"training_features.txt\")\n",
    "y_train=pd.read_csv(\"training_labels.txt\")\n",
    "X_test=pd.read_csv(\"test_features.txt\").values\n",
    "y_test=pd.read_csv(\"test_labels.txt\").values"
   ]
  },
  {
   "cell_type": "code",
   "execution_count": 3,
   "metadata": {},
   "outputs": [],
   "source": [
    "X_train['y_train']=y_train\n",
    "\n",
    "X_train=X_train.sample(frac=1)\n",
    "X_train\n",
    "y_train=X_train['y_train'].values\n"
   ]
  },
  {
   "cell_type": "code",
   "execution_count": 4,
   "metadata": {},
   "outputs": [],
   "source": [
    "y_train=X_train['y_train'].values\n",
    "y_train=y_train.reshape(-1,1)\n",
    "X_train=X_train.drop(['y_train'],axis=1).values"
   ]
  },
  {
   "cell_type": "code",
   "execution_count": 5,
   "metadata": {},
   "outputs": [],
   "source": [
    "classes = 10\n",
    "train_size = y_train.shape[0]\n",
    "y_train = y_train.reshape(1, train_size)\n",
    "y_train = np.eye(classes)[y_train.astype('int32')-1]\n",
    "y_train = y_train.T.reshape(classes, train_size)\n",
    "\n",
    "test_size = y_test.shape[0]\n",
    "y_test = y_test.reshape(1, test_size)\n",
    "y_test = np.eye(classes)[y_test.astype('int32')-1]\n",
    "y_test= y_test.T.reshape(classes, test_size)"
   ]
  },
  {
   "cell_type": "code",
   "execution_count": 6,
   "metadata": {},
   "outputs": [],
   "source": [
    "y_train=y_train.T\n",
    "y_test=y_test.T"
   ]
  },
  {
   "cell_type": "code",
   "execution_count": 7,
   "metadata": {},
   "outputs": [
    {
     "data": {
      "text/plain": [
       "(5999, 10)"
      ]
     },
     "execution_count": 7,
     "metadata": {},
     "output_type": "execute_result"
    }
   ],
   "source": [
    "y_train.shape"
   ]
  },
  {
   "cell_type": "code",
   "execution_count": 8,
   "metadata": {},
   "outputs": [
    {
     "data": {
      "image/png": "[encoded data removed]",
      "text/plain": [
       "<Figure size 432x288 with 1 Axes>"
      ]
     },
     "metadata": {
      "needs_background": "light"
     },
     "output_type": "display_data"
    }
   ],
   "source": [
    "plt.imshow(X_train[5].reshape(16,16), cmap='gray', vmin=0, vmax=1)\n",
    "plt.show()"
   ]
  },
  {
   "cell_type": "markdown",
   "metadata": {},
   "source": [
    "### user input"
   ]
  },
  {
   "cell_type": "code",
   "execution_count": 9,
   "metadata": {},
   "outputs": [
    {
     "name": "stdout",
     "output_type": "stream",
     "text": [
      "Num of hidden layers1\n"
     ]
    }
   ],
   "source": [
    "NH=int(input('Num of hidden layers'))\n",
    "yt=y_train.flatten()\n",
    "n_o=10 #num of output layer nodes= num of unique classes\n",
    "n_i=X_train.shape[1] #num of input layer nodes"
   ]
  },
  {
   "cell_type": "code",
   "execution_count": 10,
   "metadata": {},
   "outputs": [
    {
     "name": "stdout",
     "output_type": "stream",
     "text": [
      "Num of nodes in  layers num 1: 100\n"
     ]
    }
   ],
   "source": [
    "NN=[]\n",
    "NN.append(n_i)\n",
    "for i in range(NH):\n",
    "    n=int(input('Num of nodes in  layers num %d: '%(i+1)))\n",
    "    NN.append(n)\n",
    "NN.append(n_o)"
   ]
  },
  {
   "cell_type": "code",
   "execution_count": null,
   "metadata": {},
   "outputs": [],
   "source": []
  },
  {
   "cell_type": "code",
   "execution_count": null,
   "metadata": {},
   "outputs": [],
   "source": []
  },
  {
   "cell_type": "code",
   "execution_count": 11,
   "metadata": {},
   "outputs": [],
   "source": [
    "def Sigmoid(Z):\n",
    "    return 1/(1+np.exp(-1*Z))\n",
    "def Relu(Z):\n",
    "    return np.tanh(Z)#np.maximum(Z,0)\n",
    "def initialize_layers(NN,NH):\n",
    "    #we have NH hideen layers with NN[i] nodes each\n",
    "    #we want to initialize Weights for each layer where each Weight vector for a node is num of connected prev nodes\n",
    "    Wts={}\n",
    "    for layer in range (1,len(NN)):\n",
    "        Wts['W'+str(layer)]=np.random.randn(NN[layer],NN[layer-1])/100 #array of vectors for each node.\n",
    "        Wts['b'+str(layer)]=np.zeros((NN[layer],1)) #bias per layer, make it a vector to allow for vectorization.\n",
    "    return Wts\n",
    "    \n",
    "    "
   ]
  },
  {
   "cell_type": "code",
   "execution_count": 12,
   "metadata": {},
   "outputs": [
    {
     "data": {
      "text/plain": [
       "(100, 1)"
      ]
     },
     "execution_count": 12,
     "metadata": {},
     "output_type": "execute_result"
    }
   ],
   "source": [
    "Wts=initialize_layers(NN,NH)\n",
    "Wts['b1'].shape"
   ]
  },
  {
   "cell_type": "code",
   "execution_count": 13,
   "metadata": {},
   "outputs": [],
   "source": [
    "def Forward_Prob(Xt,Wts,NN):\n",
    "    # we need to store W,b,inputs,outputs,activations for each layer for each node\n",
    "    parameters=[]\n",
    "    Ai=Xt #current layer output\n",
    "   \n",
    "    Ap=Ai #previous layer output (current layer input)\n",
    "    for i in range(1,len(NN)-1):\n",
    "        W,b=Wts['W'+str(i)],Wts['b'+str(i)]\n",
    "        Ap=Ai\n",
    "        Z=np.dot(W,Ap.T)+b\n",
    "        actv=Relu(Z)\n",
    "        Ai=actv.T\n",
    "       # print(Ai.shape,Ap.shape,actv.shape)\n",
    "        #print(Wts['b'+str(i)])\n",
    "        parameters.append((W,b,Ap,actv,Z))\n",
    "    W,b=Wts['W'+str(len(NN)-1)],Wts['b'+str(len(NN)-1)]\n",
    "    Ap=Ai\n",
    "    Z=np.dot(W,Ap.T)+b\n",
    "    actv=Sigmoid(Z) #np.exp(Z) / np.sum(np.exp(Z), axis=0)#\n",
    "    Ai=actv.T\n",
    "   # print(Ai.shape,Ap.shape,actv.shape)\n",
    "    #print(Wts['b'+str(i)])\n",
    "    parameters.append((W,b,Ap,actv,Z))\n",
    "    Ao=Ai #output of last layer=last Ai   \n",
    "    #print(len(parameters))\n",
    "    return parameters, Ao \n"
   ]
  },
  {
   "cell_type": "code",
   "execution_count": 14,
   "metadata": {},
   "outputs": [],
   "source": [
    "#get predictions\n",
    "def get_yp(Ao):\n",
    "    y_p= np.array([(np.argmax(a)+1) for a in Ao]).reshape(-1,1)\n",
    "   # print(y_p.shape)\n",
    "    return y_p"
   ]
  },
  {
   "cell_type": "code",
   "execution_count": 15,
   "metadata": {},
   "outputs": [],
   "source": [
    "#loss function returns the avg error\n",
    "def Loss(y_true,prediction):\n",
    "    y_p=prediction\n",
    "    m=y_true.shape[0]\n",
    "    loss = -1/m*np.sum(np.multiply(y_true, np.log(y_p))+np.multiply(1-y_true, np.log(1-y_p)))\n",
    "    return loss\n",
    "                \n",
    "#"
   ]
  },
  {
   "cell_type": "code",
   "execution_count": 16,
   "metadata": {},
   "outputs": [],
   "source": [
    "# Probgate backwards\n",
    "def Back_Prob(y_true, Ao, parameters,Wts,NN):\n",
    "    #dAo = - (np.divide(Ao, y_true))  #last layer derivative\n",
    "    dZ =(Ao-y_true)\n",
    "    derivatives={}\n",
    "    \n",
    "    m=y_true.shape[0]\n",
    "    W,b,X,A,Z=parameters[len(NN)-2]\n",
    "    \n",
    "    dW=1.0/m*np.matmul(dZ.T,X)\n",
    "    #print(A==Sigmoid(np.dot(W,X.T)+b))\n",
    "    db = (1/(m)) * np.sum(dZ, axis =0, keepdims = True).T\n",
    "    derivatives['dW'+str(len(NN)-1)]=dW\n",
    "    derivatives['db'+str(len(NN)-1)]=db\n",
    "    #dAp = np.matmul( dZ,W)\n",
    "   # print(W)\n",
    "    for i in reversed(range(len(NN)-2)):\n",
    "        Wp=W\n",
    "        Xp=X\n",
    "        #dA=dAp\n",
    "        W,b,X,A,Z=parameters[i]\n",
    "        dZp=dZ\n",
    "        \n",
    "        dZ=np.dot(dZp,Wp) * (1 - np.power(A.T, 2))# #vectorized implementation of oh in the slides\n",
    "        m=X.shape[0]\n",
    "        dW=1.0/m*np.matmul(dZ.T,X)\n",
    "        db = (1/(m)) * np.sum(dZ, axis =0, keepdims = True).T\n",
    "        \n",
    "        #print(dZp.shape,X.shape,Wp.shape,A.shape, db.shape,dZ.shape)\n",
    "        derivatives['dW'+str(i+1)]=dW\n",
    "        derivatives['db'+str(i+1)]=db\n",
    "    return derivatives\n",
    "\n",
    "        \n",
    "        \n",
    "    \n",
    "    "
   ]
  },
  {
   "cell_type": "code",
   "execution_count": 17,
   "metadata": {},
   "outputs": [],
   "source": [
    "#update all Wts.\n",
    "def update(derivatives,Wts,parameters,learning_rate,NN):\n",
    "    for i in range(1,len(NN)):\n",
    "        #print(i)\n",
    "        Wts['b'+str(i)]=Wts['b'+str(i)]-learning_rate*derivatives['db'+str(i)]\n",
    "        Wts['W'+str(i)]=Wts['W'+str(i)]-learning_rate*derivatives['dW'+str(i)]\n",
    "    #print(Wts['W2'])\n",
    "    return Wts\n",
    "\n"
   ]
  },
  {
   "cell_type": "code",
   "execution_count": 18,
   "metadata": {},
   "outputs": [],
   "source": [
    "# train the model\n",
    "def Train_NN(iterations,X_train,y_train,NN,NH,learning_rate):\n",
    "    Wts=initialize_layers(NN,NH)\n",
    "    i=0\n",
    "    loss=1\n",
    "    losses=[]\n",
    "    while i< iterations:\n",
    "        parameters,Ao=Forward_Prob(X_train,Wts,NN)\n",
    "        #loss=Loss(y_train,Ao)\n",
    "        #print(Ao)\n",
    "        derivatives=Back_Prob(y_train,Ao,parameters,Wts,NN)\n",
    "        Wts=update(derivatives,Wts,parameters,learning_rate,NN)\n",
    "        losses.append(loss)\n",
    "        i+=1\n",
    "        #print(i)\n",
    "    return (Wts,losses)\n",
    "    \n",
    "        "
   ]
  },
  {
   "cell_type": "code",
   "execution_count": 19,
   "metadata": {},
   "outputs": [],
   "source": [
    "#predict the outcomes\n",
    "def Predict(Wts,X_test):\n",
    "    parameters,predict=Forward_Prob(X_test,Wts,NN)\n",
    "    predict=np.array(predict)\n",
    "    print(predict.shape)\n",
    "    predictions=get_yp(predict)\n",
    "    return predictions"
   ]
  },
  {
   "cell_type": "code",
   "execution_count": 20,
   "metadata": {},
   "outputs": [],
   "source": [
    "#main\n",
    "def nn_main(X_train):\n",
    "    it=250\n",
    "    eta=.25\n",
    "    Wts,losses=Train_NN(it,X_train,y_train,NN,NH,eta)\n",
    "    y_p=Predict(Wts,X_test)\n",
    "    yt=get_yp(y_test)\n",
    "    from sklearn.metrics import classification_report,average_precision_score,accuracy_score,recall_score,precision_score\n",
    "    ac=accuracy_score(yt,y_p)\n",
    "    pr=precision_score(yt,y_p,average=None)\n",
    "    rc=recall_score(yt,y_p,average=None)\n",
    "    print(classification_report(yt,y_p))\n",
    "    return (ac,pr,rc)"
   ]
  },
  {
   "cell_type": "code",
   "execution_count": 21,
   "metadata": {},
   "outputs": [],
   "source": [
    "#distortion function\n",
    "def distort(frac,X_train):\n",
    "    features=X_train.shape[1]\n",
    "    nd=int(frac*features)\n",
    "    indcies=np.random.randint(features,size=(nd,))\n",
    "    Xt_distorted=X_train.copy()\n",
    "    for i in range(X_train.shape[0]):\n",
    "        for ind in indcies:\n",
    "            Xt_distorted[i][ind]=np.random.choice([0,1])\n",
    "    return Xt_distorted"
   ]
  },
  {
   "cell_type": "code",
   "execution_count": 22,
   "metadata": {},
   "outputs": [],
   "source": [
    "#distorted model\n",
    "def build_distorted_model(X_train):\n",
    "    acc,prc,Rc=[],[],[]\n",
    "    dist_levels=0.1*np.array(range(0,11)) # 10 distotion level from 10%-100%\n",
    "    for dist in dist_levels:\n",
    "        Xt=distort(dist,X_train)\n",
    "        ac,pr,rc=nn_main(Xt)\n",
    "        acc.append(ac)\n",
    "        prc.append(pr)\n",
    "        Rc.append(rc)\n",
    "    return (acc,prc,Rc,dist_levels)"
   ]
  },
  {
   "cell_type": "code",
   "execution_count": 23,
   "metadata": {},
   "outputs": [
    {
     "name": "stdout",
     "output_type": "stream",
     "text": [
      "(4999, 10)\n",
      "              precision    recall  f1-score   support\n",
      "\n",
      "           1       0.89      0.98      0.93       499\n",
      "           2       0.96      0.91      0.93       500\n",
      "           3       0.90      0.92      0.91       500\n",
      "           4       0.92      0.94      0.93       500\n",
      "           5       0.91      0.88      0.89       500\n",
      "           6       0.94      0.93      0.93       500\n",
      "           7       0.92      0.95      0.94       500\n",
      "           8       0.89      0.86      0.88       500\n",
      "           9       0.93      0.89      0.91       500\n",
      "          10       0.94      0.96      0.95       500\n",
      "\n",
      "    accuracy                           0.92      4999\n",
      "   macro avg       0.92      0.92      0.92      4999\n",
      "weighted avg       0.92      0.92      0.92      4999\n",
      "\n",
      "(4999, 10)\n",
      "              precision    recall  f1-score   support\n",
      "\n",
      "           1       0.85      0.97      0.90       499\n",
      "           2       0.96      0.89      0.92       500\n",
      "           3       0.90      0.90      0.90       500\n",
      "           4       0.93      0.91      0.92       500\n",
      "           5       0.93      0.83      0.88       500\n",
      "           6       0.93      0.94      0.93       500\n",
      "           7       0.94      0.94      0.94       500\n",
      "           8       0.86      0.87      0.86       500\n",
      "           9       0.91      0.89      0.90       500\n",
      "          10       0.92      0.96      0.94       500\n",
      "\n",
      "    accuracy                           0.91      4999\n",
      "   macro avg       0.91      0.91      0.91      4999\n",
      "weighted avg       0.91      0.91      0.91      4999\n",
      "\n",
      "(4999, 10)\n",
      "              precision    recall  f1-score   support\n",
      "\n",
      "           1       0.84      0.97      0.90       499\n",
      "           2       0.95      0.91      0.93       500\n",
      "           3       0.87      0.91      0.89       500\n",
      "           4       0.94      0.88      0.91       500\n",
      "           5       0.95      0.80      0.87       500\n",
      "           6       0.93      0.93      0.93       500\n",
      "           7       0.95      0.90      0.93       500\n",
      "           8       0.85      0.85      0.85       500\n",
      "           9       0.87      0.90      0.89       500\n",
      "          10       0.90      0.96      0.93       500\n",
      "\n",
      "    accuracy                           0.90      4999\n",
      "   macro avg       0.90      0.90      0.90      4999\n",
      "weighted avg       0.90      0.90      0.90      4999\n",
      "\n",
      "(4999, 10)\n",
      "              precision    recall  f1-score   support\n",
      "\n",
      "           1       0.80      0.96      0.88       499\n",
      "           2       0.93      0.86      0.90       500\n",
      "           3       0.88      0.89      0.89       500\n",
      "           4       0.95      0.86      0.90       500\n",
      "           5       0.94      0.82      0.88       500\n",
      "           6       0.92      0.91      0.92       500\n",
      "           7       0.97      0.89      0.93       500\n",
      "           8       0.82      0.85      0.83       500\n",
      "           9       0.87      0.90      0.89       500\n",
      "          10       0.87      0.96      0.91       500\n",
      "\n",
      "    accuracy                           0.89      4999\n",
      "   macro avg       0.89      0.89      0.89      4999\n",
      "weighted avg       0.89      0.89      0.89      4999\n",
      "\n",
      "(4999, 10)\n",
      "              precision    recall  f1-score   support\n",
      "\n",
      "           1       0.80      0.96      0.88       499\n",
      "           2       0.94      0.87      0.90       500\n",
      "           3       0.88      0.90      0.89       500\n",
      "           4       0.94      0.82      0.87       500\n",
      "           5       0.95      0.80      0.86       500\n",
      "           6       0.92      0.92      0.92       500\n",
      "           7       0.96      0.90      0.93       500\n",
      "           8       0.79      0.85      0.82       500\n",
      "           9       0.84      0.88      0.86       500\n",
      "          10       0.90      0.96      0.93       500\n",
      "\n",
      "    accuracy                           0.89      4999\n",
      "   macro avg       0.89      0.89      0.89      4999\n",
      "weighted avg       0.89      0.89      0.89      4999\n",
      "\n",
      "(4999, 10)\n",
      "              precision    recall  f1-score   support\n",
      "\n",
      "           1       0.80      0.94      0.86       499\n",
      "           2       0.94      0.86      0.90       500\n",
      "           3       0.84      0.91      0.87       500\n",
      "           4       0.92      0.84      0.88       500\n",
      "           5       0.94      0.70      0.80       500\n",
      "           6       0.90      0.91      0.91       500\n",
      "           7       0.95      0.86      0.90       500\n",
      "           8       0.74      0.86      0.80       500\n",
      "           9       0.85      0.86      0.85       500\n",
      "          10       0.88      0.94      0.91       500\n",
      "\n",
      "    accuracy                           0.87      4999\n",
      "   macro avg       0.87      0.87      0.87      4999\n",
      "weighted avg       0.87      0.87      0.87      4999\n",
      "\n",
      "(4999, 10)\n",
      "              precision    recall  f1-score   support\n",
      "\n",
      "           1       0.76      0.97      0.85       499\n",
      "           2       0.90      0.82      0.86       500\n",
      "           3       0.83      0.88      0.85       500\n",
      "           4       0.94      0.80      0.87       500\n",
      "           5       0.92      0.69      0.79       500\n",
      "           6       0.85      0.86      0.85       500\n",
      "           7       0.96      0.77      0.86       500\n",
      "           8       0.77      0.85      0.81       500\n",
      "           9       0.80      0.88      0.84       500\n",
      "          10       0.83      0.95      0.89       500\n",
      "\n",
      "    accuracy                           0.85      4999\n",
      "   macro avg       0.86      0.85      0.85      4999\n",
      "weighted avg       0.86      0.85      0.85      4999\n",
      "\n",
      "(4999, 10)\n",
      "              precision    recall  f1-score   support\n",
      "\n",
      "           1       0.79      0.94      0.86       499\n",
      "           2       0.91      0.83      0.87       500\n",
      "           3       0.82      0.87      0.85       500\n",
      "           4       0.93      0.79      0.85       500\n",
      "           5       0.91      0.70      0.79       500\n",
      "           6       0.90      0.90      0.90       500\n",
      "           7       0.90      0.89      0.89       500\n",
      "           8       0.79      0.80      0.79       500\n",
      "           9       0.82      0.84      0.83       500\n",
      "          10       0.82      0.96      0.88       500\n",
      "\n",
      "    accuracy                           0.85      4999\n",
      "   macro avg       0.86      0.85      0.85      4999\n",
      "weighted avg       0.86      0.85      0.85      4999\n",
      "\n",
      "(4999, 10)\n",
      "              precision    recall  f1-score   support\n",
      "\n",
      "           1       0.70      0.96      0.81       499\n",
      "           2       0.91      0.84      0.87       500\n",
      "           3       0.75      0.93      0.83       500\n",
      "           4       0.90      0.73      0.80       500\n",
      "           5       0.93      0.68      0.78       500\n",
      "           6       0.92      0.88      0.90       500\n",
      "           7       0.92      0.81      0.86       500\n",
      "           8       0.81      0.71      0.76       500\n",
      "           9       0.78      0.82      0.80       500\n",
      "          10       0.83      0.96      0.89       500\n",
      "\n",
      "    accuracy                           0.83      4999\n",
      "   macro avg       0.84      0.83      0.83      4999\n",
      "weighted avg       0.84      0.83      0.83      4999\n",
      "\n",
      "(4999, 10)\n",
      "              precision    recall  f1-score   support\n",
      "\n",
      "           1       0.76      0.94      0.84       499\n",
      "           2       0.87      0.82      0.85       500\n",
      "           3       0.79      0.88      0.83       500\n",
      "           4       0.91      0.82      0.86       500\n",
      "           5       0.93      0.63      0.75       500\n",
      "           6       0.86      0.86      0.86       500\n",
      "           7       0.93      0.84      0.88       500\n",
      "           8       0.73      0.79      0.76       500\n",
      "           9       0.84      0.83      0.83       500\n",
      "          10       0.83      0.95      0.88       500\n",
      "\n",
      "    accuracy                           0.84      4999\n",
      "   macro avg       0.84      0.84      0.84      4999\n",
      "weighted avg       0.84      0.84      0.84      4999\n",
      "\n",
      "(4999, 10)\n",
      "              precision    recall  f1-score   support\n",
      "\n",
      "           1       0.72      0.94      0.81       499\n",
      "           2       0.84      0.85      0.85       500\n",
      "           3       0.82      0.80      0.81       500\n",
      "           4       0.91      0.72      0.80       500\n",
      "           5       0.88      0.71      0.79       500\n",
      "           6       0.84      0.90      0.87       500\n",
      "           7       0.92      0.80      0.86       500\n",
      "           8       0.66      0.77      0.71       500\n",
      "           9       0.83      0.73      0.78       500\n",
      "          10       0.82      0.90      0.86       500\n",
      "\n",
      "    accuracy                           0.81      4999\n",
      "   macro avg       0.82      0.81      0.81      4999\n",
      "weighted avg       0.82      0.81      0.81      4999\n",
      "\n"
     ]
    },
    {
     "data": {
      "image/png": "[encoded data removed]",
      "text/plain": [
       "<Figure size 432x288 with 1 Axes>"
      ]
     },
     "metadata": {
      "needs_background": "light"
     },
     "output_type": "display_data"
    },
    {
     "data": {
      "image/png": "[encoded data removed]",
      "text/plain": [
       "<Figure size 432x288 with 1 Axes>"
      ]
     },
     "metadata": {
      "needs_background": "light"
     },
     "output_type": "display_data"
    },
    {
     "data": {
      "image/png": "[encoded data removed]",
      "text/plain": [
       "<Figure size 432x288 with 1 Axes>"
      ]
     },
     "metadata": {
      "needs_background": "light"
     },
     "output_type": "display_data"
    }
   ],
   "source": [
    "#main:\n",
    "\n",
    "acc,prc,Rc,dst=build_distorted_model(X_train)\n",
    "\n",
    "plt.plot(dst,acc)\n",
    "plt.ylabel('accuracy')\n",
    "plt.xlabel('distortion')\n",
    "plt.show()\n",
    "plt.plot(dst,np.array(prc).sum(axis=1)/10)\n",
    "plt.ylabel('precision')\n",
    "plt.xlabel('distortion')\n",
    "plt.show()\n",
    "\n",
    "plt.plot(dst,np.array(Rc).sum(axis=1)/10)\n",
    "plt.ylabel('recall')\n",
    "plt.xlabel('distortion')\n",
    "plt.show()\n",
    "\n",
    "\n"
   ]
  },
  {
   "cell_type": "code",
   "execution_count": 28,
   "metadata": {},
   "outputs": [
    {
     "data": {
      "image/png": "[encoded data removed]",
      "text/plain": [
       "<Figure size 432x288 with 1 Axes>"
      ]
     },
     "metadata": {
      "needs_background": "light"
     },
     "output_type": "display_data"
    },
    {
     "data": {
      "image/png": "[encoded data removed]",
      "text/plain": [
       "<Figure size 432x288 with 1 Axes>"
      ]
     },
     "metadata": {
      "needs_background": "light"
     },
     "output_type": "display_data"
    }
   ],
   "source": [
    "prc=np.array(prc).mean()\n",
    "plt.plot(dst,acc)\n",
    "plt.ylabel('accuracy')\n",
    "plt.xlabel('distortion')\n",
    "plt.show()\n",
    "\n",
    "\n",
    "plt.plot(dst,np.array(Rc).sum(axis=-1)/10)\n",
    "plt.ylabel('recall')\n",
    "plt.xlabel('distortion')\n",
    "plt.show()\n"
   ]
  },
  {
   "cell_type": "code",
   "execution_count": 48,
   "metadata": {},
   "outputs": [
    {
     "data": {
      "text/plain": [
       "array([0.92079559, 0.91059399, 0.90259038, 0.89759279, 0.88119238,\n",
       "       0.87438918, 0.85718838, 0.85859319, 0.85058397, 0.80558397,\n",
       "       0.80198637])"
      ]
     },
     "execution_count": 48,
     "metadata": {},
     "output_type": "execute_result"
    }
   ],
   "source": [
    "np.array(Rc).sum(axis=1)/10"
   ]
  },
  {
   "cell_type": "code",
   "execution_count": null,
   "metadata": {},
   "outputs": [],
   "source": []
  },
  {
   "cell_type": "code",
   "execution_count": null,
   "metadata": {},
   "outputs": [],
   "source": []
  },
  {
   "cell_type": "code",
   "execution_count": null,
   "metadata": {},
   "outputs": [],
   "source": []
  },
  {
   "cell_type": "code",
   "execution_count": null,
   "metadata": {},
   "outputs": [],
   "source": []
  },
  {
   "cell_type": "code",
   "execution_count": null,
   "metadata": {},
   "outputs": [],
   "source": []
  },
  {
   "cell_type": "code",
   "execution_count": null,
   "metadata": {},
   "outputs": [],
   "source": []
  },
  {
   "cell_type": "code",
   "execution_count": null,
   "metadata": {},
   "outputs": [],
   "source": []
  }
 ],
 "metadata": {
  "kernelspec": {
   "display_name": "Python 3",
   "language": "python",
   "name": "python3"
  },
  "language_info": {
   "codemirror_mode": {
    "name": "ipython",
    "version": 3
   },
   "file_extension": ".py",
   "mimetype": "text/x-python",
   "name": "python",
   "nbconvert_exporter": "python",
   "pygments_lexer": "ipython3",
   "version": "3.8.3"
  }
 },
 "nbformat": 4,
 "nbformat_minor": 2
}
